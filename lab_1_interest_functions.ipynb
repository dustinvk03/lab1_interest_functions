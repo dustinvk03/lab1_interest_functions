{
  "cells": [
    {
      "cell_type": "markdown",
      "metadata": {
        "id": "view-in-github",
        "colab_type": "text"
      },
      "source": [
        "<a href=\"https://colab.research.google.com/github/dustinvk03/lab1_interest_functions/blob/master/lab_1_interest_functions.ipynb\" target=\"_parent\"><img src=\"https://colab.research.google.com/assets/colab-badge.svg\" alt=\"Open In Colab\"/></a>"
      ]
    },
    {
      "cell_type": "markdown",
      "metadata": {
        "id": "zyszVccoosHF"
      },
      "source": [
        "## Lab 1 - Compound Interest Functions\n",
        "\n",
        "Below you will find a table of important formulae related to compound interest.  \n",
        "\n",
        "<img src=\"https://www.dummies.com/wp-content/uploads/251689.image0.jpg\" alt=\"image0.jpg\" width=\"400\" height=\"319\">\n",
        "\n",
        "In this lab, you will create functions for each of these using (and documenting) the following workflow.\n",
        "\n",
        "1. Work out the correct answer for a few examples. *Hint* Search for e.g. \"worked out compound interest examples\" on the web.\n",
        "2. Write a `lambda` function and test this function on your test cases.\n",
        "3. Convert the `lambda` function to a `def` statement with an informative doc string that follows the [Google formating rules](https://google.github.io/styleguide/pyguide.html#383-functions-and-methods).\n",
        "4. Write an automated test function (using your previous examples) that will test your `def` statement function each time the code is executed."
      ]
    },
    {
      "cell_type": "markdown",
      "metadata": {
        "id": "Lzy_UQwcosHH"
      },
      "source": [
        "#### Problem 1 -- Apply the process to create a simple interest functions."
      ]
    },
    {
      "cell_type": "code",
      "source": [
        "f1= lambda P, r, t : P*r*t\n",
        "f1(10000, 0.08, 5)"
      ],
      "metadata": {
        "id": "_pq8WTlVrl_q",
        "outputId": "e92a78d8-3a42-420a-a633-0032d933d2cc",
        "colab": {
          "base_uri": "https://localhost:8080/"
        }
      },
      "execution_count": 36,
      "outputs": [
        {
          "output_type": "execute_result",
          "data": {
            "text/plain": [
              "4000.0"
            ]
          },
          "metadata": {},
          "execution_count": 36
        }
      ]
    },
    {
      "cell_type": "code",
      "execution_count": 37,
      "metadata": {
        "id": "heN4NcMHosHH"
      },
      "outputs": [],
      "source": [
        "def simple_int(P, r, t):\n",
        "  \"\"\" Compute simple interest \n",
        "\n",
        "  Args: \n",
        "    P: principle (> 0)\n",
        "    r: interest rate (> 0)\n",
        "    t: time in years (positive integer)\n",
        "\n",
        "  Return:\n",
        "    real number which represents the interest\n",
        "  \"\"\"\n",
        "  I = P*r*t\n",
        "  return I\n",
        "\n",
        "def test_simple_int():\n",
        "  assert simple_int(10000, 0.08, 5) == 4000\n",
        "test_simple_int()"
      ]
    },
    {
      "cell_type": "markdown",
      "metadata": {
        "id": "B7WA6Nd9osHI"
      },
      "source": [
        "#### Problem 2 -- Apply the process to create a compound interest functions."
      ]
    },
    {
      "cell_type": "code",
      "source": [
        "f2 = lambda P, r, n, t: P* (1 + r/n) ** (n*t)\n",
        "f2(5000, 0.05/12, 12*10, 10)"
      ],
      "metadata": {
        "id": "aSB9vpVIsahy",
        "outputId": "31995f2b-2a7c-4519-8c13-9cc50bd41a36",
        "colab": {
          "base_uri": "https://localhost:8080/"
        }
      },
      "execution_count": 38,
      "outputs": [
        {
          "output_type": "execute_result",
          "data": {
            "text/plain": [
              "5212.730755251974"
            ]
          },
          "metadata": {},
          "execution_count": 38
        }
      ]
    },
    {
      "cell_type": "code",
      "execution_count": 39,
      "metadata": {
        "id": "nNpjfh_fosHJ"
      },
      "outputs": [],
      "source": [
        "def compound_int(P, r, n, t):\n",
        "\n",
        "  \"\"\" Compute compound interest \n",
        "\n",
        "  Args: \n",
        "    P: principle (> 0)\n",
        "    r: interest rate (> 0)\n",
        "    n: compoundings\n",
        "    t: years (positive integer)\n",
        "\n",
        "  Return:\n",
        "    real number which represents the compound interest\n",
        "  \"\"\"\n",
        "\n",
        "  A = P* (1 + r/n) ** (n*t)\n",
        "  return A\n",
        "\n",
        "def test_compound_int():\n",
        "  assert compound_int(5000, 0.05/12, 12*10, 10) == 5212.730755251974\n",
        "test_compound_int()"
      ]
    },
    {
      "cell_type": "markdown",
      "metadata": {
        "id": "yaVtOdF_osHJ"
      },
      "source": [
        "#### Problem 3 -- Apply the process to create a amortized loan payment function."
      ]
    },
    {
      "cell_type": "code",
      "source": [
        "f3 = lambda P, i, n : (P*i) / ( 1 - (1+i)**(-n) ) \n",
        "f3 (288000, 3.25/100/12, 30*12)"
      ],
      "metadata": {
        "id": "rXGIv3YvtA4a",
        "outputId": "7018927a-84eb-43de-b338-ff47bc1688ad",
        "colab": {
          "base_uri": "https://localhost:8080/"
        }
      },
      "execution_count": 40,
      "outputs": [
        {
          "output_type": "execute_result",
          "data": {
            "text/plain": [
              "1253.3941989284617"
            ]
          },
          "metadata": {},
          "execution_count": 40
        }
      ]
    },
    {
      "cell_type": "code",
      "execution_count": 41,
      "metadata": {
        "id": "Cht0wklGosHJ"
      },
      "outputs": [],
      "source": [
        "def amortized_loan_payment(P, i, n):\n",
        "\n",
        "  \"\"\" Compute amortized loan payment \n",
        "\n",
        "  Args: \n",
        "    P: amount borrowed (> 0)\n",
        "    r: interest rate per period (> 0)\n",
        "    n: number of payment (positive integer)\n",
        "\n",
        "  Return:\n",
        "    real number which represents an amortized loan payment \n",
        "  \"\"\"\n",
        "  R = (P*i) / ( 1 - (1+i)**(-n) )\n",
        "  return R\n",
        "\n",
        "def test_amortized_loan_payment():\n",
        "  assert amortized_loan_payment(288000, 3.25/100/12, 30*12) == 1253.3941989284617\n",
        "test_amortized_loan_payment()"
      ]
    },
    {
      "cell_type": "code",
      "source": [
        ""
      ],
      "metadata": {
        "id": "EdAP4raUqIWR"
      },
      "execution_count": 41,
      "outputs": []
    },
    {
      "cell_type": "markdown",
      "metadata": {
        "id": "rSj-OfJbosHJ"
      },
      "source": [
        "#### Problem 4 -- Apply the process to create a remaining balance function"
      ]
    },
    {
      "cell_type": "code",
      "source": [
        "f4 = lambda R, i, n, x: R*(1 - (1+i)** (x - n)) / i\n",
        "f4(1253, 3.25/100/12, 12*30, 12)"
      ],
      "metadata": {
        "id": "Q0rH8h5Ytx-w",
        "outputId": "027c7f17-d9d2-4e1a-aed1-65afac89e0c5",
        "colab": {
          "base_uri": "https://localhost:8080/"
        }
      },
      "execution_count": 42,
      "outputs": [
        {
          "output_type": "execute_result",
          "data": {
            "text/plain": [
              "282145.1177920918"
            ]
          },
          "metadata": {},
          "execution_count": 42
        }
      ]
    },
    {
      "cell_type": "code",
      "execution_count": 43,
      "metadata": {
        "id": "LET9DBeFosHJ"
      },
      "outputs": [],
      "source": [
        "def remaining_bal(R, i, n, x):\n",
        "  \"\"\" Compute remaining balance \n",
        "\n",
        "  Args: \n",
        "    R: aregular payment (> 0)\n",
        "    i: interest rate per period (> 0)\n",
        "    n: number of payments (positive integer)\n",
        "    x: number of payments already made\n",
        "\n",
        "  Return:\n",
        "    real number which represents a remaining balance\n",
        "  \"\"\"\n",
        "\n",
        "  B = R*(1 - (1+i)** (x - n)) / i\n",
        "  return B\n",
        "\n",
        "def test_remaining_bal():\n",
        "  assert remaining_bal(1253, 3.25/100/12, 12*30, 12) == 282145.1177920918\n",
        "test_remaining_bal()"
      ]
    }
  ],
  "metadata": {
    "kernelspec": {
      "display_name": "Python 3",
      "language": "python",
      "name": "python3"
    },
    "language_info": {
      "codemirror_mode": {
        "name": "ipython",
        "version": 3
      },
      "file_extension": ".py",
      "mimetype": "text/x-python",
      "name": "python",
      "nbconvert_exporter": "python",
      "pygments_lexer": "ipython3",
      "version": "3.7.2"
    },
    "colab": {
      "provenance": [],
      "include_colab_link": true
    }
  },
  "nbformat": 4,
  "nbformat_minor": 0
}